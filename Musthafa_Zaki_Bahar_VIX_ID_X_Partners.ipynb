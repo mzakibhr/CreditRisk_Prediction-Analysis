{
  "nbformat": 4,
  "nbformat_minor": 0,
  "metadata": {
    "colab": {
      "name": "Musthafa Zaki Bahar_VIX_ID/X Partners.ipynb",
      "provenance": [],
      "collapsed_sections": []
    },
    "kernelspec": {
      "name": "python3",
      "display_name": "Python 3"
    },
    "language_info": {
      "name": "python"
    }
  },
  "cells": [
    {
      "cell_type": "markdown",
      "source": [
        "#**CREDIT RISK LOAN PREDICTION**\n"
      ],
      "metadata": {
        "id": "ysNab0av2cvG"
      }
    },
    {
      "cell_type": "markdown",
      "source": [
        "ID/X Partners Data Scientist Virtual Internship Program\n",
        "\n",
        "Musthafa Zaki Bahar"
      ],
      "metadata": {
        "id": "0xKIrISc2lGL"
      }
    },
    {
      "cell_type": "code",
      "source": [
        "import pandas as pd\n",
        "import matplotlib.pyplot as plt\n",
        "import seaborn as sns\n",
        "import numpy as np"
      ],
      "metadata": {
        "id": "6PjMQGFlMQQb"
      },
      "execution_count": null,
      "outputs": []
    },
    {
      "cell_type": "markdown",
      "source": [
        "##Prepare Data"
      ],
      "metadata": {
        "id": "jBiF3V9MPTHt"
      }
    },
    {
      "cell_type": "code",
      "execution_count": null,
      "metadata": {
        "colab": {
          "base_uri": "https://localhost:8080/"
        },
        "id": "qF8sfiaIL8UT",
        "outputId": "0c2c9a4c-1309-45bd-e671-06ab7fac6a5f"
      },
      "outputs": [
        {
          "output_type": "stream",
          "name": "stdout",
          "text": [
            "Drive already mounted at /content/drive; to attempt to forcibly remount, call drive.mount(\"/content/drive\", force_remount=True).\n"
          ]
        }
      ],
      "source": [
        "from google.colab import drive\n",
        "drive.mount('/content/drive')"
      ]
    },
    {
      "cell_type": "code",
      "source": [
        "path = \"/content/drive/MyDrive/Magang/Id x/loan_data_2007_2014.csv\"\n",
        "df_loan = pd.read_csv(path)"
      ],
      "metadata": {
        "colab": {
          "base_uri": "https://localhost:8080/"
        },
        "id": "UsgDTig3L9el",
        "outputId": "630c5260-7990-471f-e980-1f24bc40dcd1"
      },
      "execution_count": null,
      "outputs": [
        {
          "output_type": "stream",
          "name": "stderr",
          "text": [
            "/usr/local/lib/python3.7/dist-packages/IPython/core/interactiveshell.py:2882: DtypeWarning: Columns (20) have mixed types.Specify dtype option on import or set low_memory=False.\n",
            "  exec(code_obj, self.user_global_ns, self.user_ns)\n"
          ]
        }
      ]
    },
    {
      "cell_type": "code",
      "source": [
        "df_loan.sample(10)"
      ],
      "metadata": {
        "colab": {
          "base_uri": "https://localhost:8080/"
        },
        "id": "dcg21WqIMUzH",
        "outputId": "0433a965-6e4b-4471-bd26-879995d91cde"
      },
      "execution_count": null,
      "outputs": [
        {
          "output_type": "execute_result",
          "data": {
            "text/plain": [
              "        Unnamed: 0        id  member_id  loan_amnt  funded_amnt  \\\n",
              "312325      312325  26179392   28652218      30000        30000   \n",
              "128366      128366   5156155    6478452      35000        35000   \n",
              "52036        52036   9218713   11040617       7200         7200   \n",
              "10691        10691    825982    1034821       5000         5000   \n",
              "...            ...       ...        ...        ...          ...   \n",
              "167846      167846   3295032    4067240      10000        10000   \n",
              "398153      398153  15250713   17323110      18000        18000   \n",
              "404452      404452  14609828   16672138      16000        16000   \n",
              "427959      427959  12895517   11932228      12075        12075   \n",
              "\n",
              "        funded_amnt_inv        term  int_rate  installment grade  ...  \\\n",
              "312325     30000.000000   36 months     12.49      1003.47     B  ...   \n",
              "128366     35000.000000   60 months     19.05       908.89     D  ...   \n",
              "52036       7200.000000   36 months     13.98       246.01     C  ...   \n",
              "10691       4987.633614   60 months     12.99       113.74     C  ...   \n",
              "...                 ...         ...       ...          ...   ...  ...   \n",
              "167846     10000.000000   36 months     11.14       328.06     B  ...   \n",
              "398153     17950.000000   60 months     17.57       452.89     D  ...   \n",
              "404452     16000.000000   60 months     15.61       385.79     C  ...   \n",
              "427959     12075.000000   36 months     15.31       420.42     C  ...   \n",
              "\n",
              "       total_bal_il il_util open_rv_12m open_rv_24m  max_bal_bc all_util  \\\n",
              "312325          NaN     NaN         NaN         NaN         NaN      NaN   \n",
              "128366          NaN     NaN         NaN         NaN         NaN      NaN   \n",
              "52036           NaN     NaN         NaN         NaN         NaN      NaN   \n",
              "10691           NaN     NaN         NaN         NaN         NaN      NaN   \n",
              "...             ...     ...         ...         ...         ...      ...   \n",
              "167846          NaN     NaN         NaN         NaN         NaN      NaN   \n",
              "398153          NaN     NaN         NaN         NaN         NaN      NaN   \n",
              "404452          NaN     NaN         NaN         NaN         NaN      NaN   \n",
              "427959          NaN     NaN         NaN         NaN         NaN      NaN   \n",
              "\n",
              "       total_rev_hi_lim inq_fi total_cu_tl inq_last_12m  \n",
              "312325          29000.0    NaN         NaN          NaN  \n",
              "128366          46900.0    NaN         NaN          NaN  \n",
              "52036            6300.0    NaN         NaN          NaN  \n",
              "10691               NaN    NaN         NaN          NaN  \n",
              "...                 ...    ...         ...          ...  \n",
              "167846          42000.0    NaN         NaN          NaN  \n",
              "398153          35300.0    NaN         NaN          NaN  \n",
              "404452          43600.0    NaN         NaN          NaN  \n",
              "427959          29400.0    NaN         NaN          NaN  \n",
              "\n",
              "[10 rows x 75 columns]"
            ],
            "text/html": [
              "\n",
              "  <div id=\"df-18807065-08d4-42b0-928c-847915d54bc9\">\n",
              "    <div class=\"colab-df-container\">\n",
              "      <div>\n",
              "<style scoped>\n",
              "    .dataframe tbody tr th:only-of-type {\n",
              "        vertical-align: middle;\n",
              "    }\n",
              "\n",
              "    .dataframe tbody tr th {\n",
              "        vertical-align: top;\n",
              "    }\n",
              "\n",
              "    .dataframe thead th {\n",
              "        text-align: right;\n",
              "    }\n",
              "</style>\n",
              "<table border=\"1\" class=\"dataframe\">\n",
              "  <thead>\n",
              "    <tr style=\"text-align: right;\">\n",
              "      <th></th>\n",
              "      <th>Unnamed: 0</th>\n",
              "      <th>id</th>\n",
              "      <th>member_id</th>\n",
              "      <th>loan_amnt</th>\n",
              "      <th>funded_amnt</th>\n",
              "      <th>funded_amnt_inv</th>\n",
              "      <th>term</th>\n",
              "      <th>int_rate</th>\n",
              "      <th>installment</th>\n",
              "      <th>grade</th>\n",
              "      <th>...</th>\n",
              "      <th>total_bal_il</th>\n",
              "      <th>il_util</th>\n",
              "      <th>open_rv_12m</th>\n",
              "      <th>open_rv_24m</th>\n",
              "      <th>max_bal_bc</th>\n",
              "      <th>all_util</th>\n",
              "      <th>total_rev_hi_lim</th>\n",
              "      <th>inq_fi</th>\n",
              "      <th>total_cu_tl</th>\n",
              "      <th>inq_last_12m</th>\n",
              "    </tr>\n",
              "  </thead>\n",
              "  <tbody>\n",
              "    <tr>\n",
              "      <th>312325</th>\n",
              "      <td>312325</td>\n",
              "      <td>26179392</td>\n",
              "      <td>28652218</td>\n",
              "      <td>30000</td>\n",
              "      <td>30000</td>\n",
              "      <td>30000.000000</td>\n",
              "      <td>36 months</td>\n",
              "      <td>12.49</td>\n",
              "      <td>1003.47</td>\n",
              "      <td>B</td>\n",
              "      <td>...</td>\n",
              "      <td>NaN</td>\n",
              "      <td>NaN</td>\n",
              "      <td>NaN</td>\n",
              "      <td>NaN</td>\n",
              "      <td>NaN</td>\n",
              "      <td>NaN</td>\n",
              "      <td>29000.0</td>\n",
              "      <td>NaN</td>\n",
              "      <td>NaN</td>\n",
              "      <td>NaN</td>\n",
              "    </tr>\n",
              "    <tr>\n",
              "      <th>128366</th>\n",
              "      <td>128366</td>\n",
              "      <td>5156155</td>\n",
              "      <td>6478452</td>\n",
              "      <td>35000</td>\n",
              "      <td>35000</td>\n",
              "      <td>35000.000000</td>\n",
              "      <td>60 months</td>\n",
              "      <td>19.05</td>\n",
              "      <td>908.89</td>\n",
              "      <td>D</td>\n",
              "      <td>...</td>\n",
              "      <td>NaN</td>\n",
              "      <td>NaN</td>\n",
              "      <td>NaN</td>\n",
              "      <td>NaN</td>\n",
              "      <td>NaN</td>\n",
              "      <td>NaN</td>\n",
              "      <td>46900.0</td>\n",
              "      <td>NaN</td>\n",
              "      <td>NaN</td>\n",
              "      <td>NaN</td>\n",
              "    </tr>\n",
              "    <tr>\n",
              "      <th>52036</th>\n",
              "      <td>52036</td>\n",
              "      <td>9218713</td>\n",
              "      <td>11040617</td>\n",
              "      <td>7200</td>\n",
              "      <td>7200</td>\n",
              "      <td>7200.000000</td>\n",
              "      <td>36 months</td>\n",
              "      <td>13.98</td>\n",
              "      <td>246.01</td>\n",
              "      <td>C</td>\n",
              "      <td>...</td>\n",
              "      <td>NaN</td>\n",
              "      <td>NaN</td>\n",
              "      <td>NaN</td>\n",
              "      <td>NaN</td>\n",
              "      <td>NaN</td>\n",
              "      <td>NaN</td>\n",
              "      <td>6300.0</td>\n",
              "      <td>NaN</td>\n",
              "      <td>NaN</td>\n",
              "      <td>NaN</td>\n",
              "    </tr>\n",
              "    <tr>\n",
              "      <th>10691</th>\n",
              "      <td>10691</td>\n",
              "      <td>825982</td>\n",
              "      <td>1034821</td>\n",
              "      <td>5000</td>\n",
              "      <td>5000</td>\n",
              "      <td>4987.633614</td>\n",
              "      <td>60 months</td>\n",
              "      <td>12.99</td>\n",
              "      <td>113.74</td>\n",
              "      <td>C</td>\n",
              "      <td>...</td>\n",
              "      <td>NaN</td>\n",
              "      <td>NaN</td>\n",
              "      <td>NaN</td>\n",
              "      <td>NaN</td>\n",
              "      <td>NaN</td>\n",
              "      <td>NaN</td>\n",
              "      <td>NaN</td>\n",
              "      <td>NaN</td>\n",
              "      <td>NaN</td>\n",
              "      <td>NaN</td>\n",
              "    </tr>\n",
              "    <tr>\n",
              "      <th>...</th>\n",
              "      <td>...</td>\n",
              "      <td>...</td>\n",
              "      <td>...</td>\n",
              "      <td>...</td>\n",
              "      <td>...</td>\n",
              "      <td>...</td>\n",
              "      <td>...</td>\n",
              "      <td>...</td>\n",
              "      <td>...</td>\n",
              "      <td>...</td>\n",
              "      <td>...</td>\n",
              "      <td>...</td>\n",
              "      <td>...</td>\n",
              "      <td>...</td>\n",
              "      <td>...</td>\n",
              "      <td>...</td>\n",
              "      <td>...</td>\n",
              "      <td>...</td>\n",
              "      <td>...</td>\n",
              "      <td>...</td>\n",
              "      <td>...</td>\n",
              "    </tr>\n",
              "    <tr>\n",
              "      <th>167846</th>\n",
              "      <td>167846</td>\n",
              "      <td>3295032</td>\n",
              "      <td>4067240</td>\n",
              "      <td>10000</td>\n",
              "      <td>10000</td>\n",
              "      <td>10000.000000</td>\n",
              "      <td>36 months</td>\n",
              "      <td>11.14</td>\n",
              "      <td>328.06</td>\n",
              "      <td>B</td>\n",
              "      <td>...</td>\n",
              "      <td>NaN</td>\n",
              "      <td>NaN</td>\n",
              "      <td>NaN</td>\n",
              "      <td>NaN</td>\n",
              "      <td>NaN</td>\n",
              "      <td>NaN</td>\n",
              "      <td>42000.0</td>\n",
              "      <td>NaN</td>\n",
              "      <td>NaN</td>\n",
              "      <td>NaN</td>\n",
              "    </tr>\n",
              "    <tr>\n",
              "      <th>398153</th>\n",
              "      <td>398153</td>\n",
              "      <td>15250713</td>\n",
              "      <td>17323110</td>\n",
              "      <td>18000</td>\n",
              "      <td>18000</td>\n",
              "      <td>17950.000000</td>\n",
              "      <td>60 months</td>\n",
              "      <td>17.57</td>\n",
              "      <td>452.89</td>\n",
              "      <td>D</td>\n",
              "      <td>...</td>\n",
              "      <td>NaN</td>\n",
              "      <td>NaN</td>\n",
              "      <td>NaN</td>\n",
              "      <td>NaN</td>\n",
              "      <td>NaN</td>\n",
              "      <td>NaN</td>\n",
              "      <td>35300.0</td>\n",
              "      <td>NaN</td>\n",
              "      <td>NaN</td>\n",
              "      <td>NaN</td>\n",
              "    </tr>\n",
              "    <tr>\n",
              "      <th>404452</th>\n",
              "      <td>404452</td>\n",
              "      <td>14609828</td>\n",
              "      <td>16672138</td>\n",
              "      <td>16000</td>\n",
              "      <td>16000</td>\n",
              "      <td>16000.000000</td>\n",
              "      <td>60 months</td>\n",
              "      <td>15.61</td>\n",
              "      <td>385.79</td>\n",
              "      <td>C</td>\n",
              "      <td>...</td>\n",
              "      <td>NaN</td>\n",
              "      <td>NaN</td>\n",
              "      <td>NaN</td>\n",
              "      <td>NaN</td>\n",
              "      <td>NaN</td>\n",
              "      <td>NaN</td>\n",
              "      <td>43600.0</td>\n",
              "      <td>NaN</td>\n",
              "      <td>NaN</td>\n",
              "      <td>NaN</td>\n",
              "    </tr>\n",
              "    <tr>\n",
              "      <th>427959</th>\n",
              "      <td>427959</td>\n",
              "      <td>12895517</td>\n",
              "      <td>11932228</td>\n",
              "      <td>12075</td>\n",
              "      <td>12075</td>\n",
              "      <td>12075.000000</td>\n",
              "      <td>36 months</td>\n",
              "      <td>15.31</td>\n",
              "      <td>420.42</td>\n",
              "      <td>C</td>\n",
              "      <td>...</td>\n",
              "      <td>NaN</td>\n",
              "      <td>NaN</td>\n",
              "      <td>NaN</td>\n",
              "      <td>NaN</td>\n",
              "      <td>NaN</td>\n",
              "      <td>NaN</td>\n",
              "      <td>29400.0</td>\n",
              "      <td>NaN</td>\n",
              "      <td>NaN</td>\n",
              "      <td>NaN</td>\n",
              "    </tr>\n",
              "  </tbody>\n",
              "</table>\n",
              "<p>10 rows × 75 columns</p>\n",
              "</div>\n",
              "      <button class=\"colab-df-convert\" onclick=\"convertToInteractive('df-18807065-08d4-42b0-928c-847915d54bc9')\"\n",
              "              title=\"Convert this dataframe to an interactive table.\"\n",
              "              style=\"display:none;\">\n",
              "        \n",
              "  <svg xmlns=\"http://www.w3.org/2000/svg\" height=\"24px\"viewBox=\"0 0 24 24\"\n",
              "       width=\"24px\">\n",
              "    <path d=\"M0 0h24v24H0V0z\" fill=\"none\"/>\n",
              "    <path d=\"M18.56 5.44l.94 2.06.94-2.06 2.06-.94-2.06-.94-.94-2.06-.94 2.06-2.06.94zm-11 1L8.5 8.5l.94-2.06 2.06-.94-2.06-.94L8.5 2.5l-.94 2.06-2.06.94zm10 10l.94 2.06.94-2.06 2.06-.94-2.06-.94-.94-2.06-.94 2.06-2.06.94z\"/><path d=\"M17.41 7.96l-1.37-1.37c-.4-.4-.92-.59-1.43-.59-.52 0-1.04.2-1.43.59L10.3 9.45l-7.72 7.72c-.78.78-.78 2.05 0 2.83L4 21.41c.39.39.9.59 1.41.59.51 0 1.02-.2 1.41-.59l7.78-7.78 2.81-2.81c.8-.78.8-2.07 0-2.86zM5.41 20L4 18.59l7.72-7.72 1.47 1.35L5.41 20z\"/>\n",
              "  </svg>\n",
              "      </button>\n",
              "      \n",
              "  <style>\n",
              "    .colab-df-container {\n",
              "      display:flex;\n",
              "      flex-wrap:wrap;\n",
              "      gap: 12px;\n",
              "    }\n",
              "\n",
              "    .colab-df-convert {\n",
              "      background-color: #E8F0FE;\n",
              "      border: none;\n",
              "      border-radius: 50%;\n",
              "      cursor: pointer;\n",
              "      display: none;\n",
              "      fill: #1967D2;\n",
              "      height: 32px;\n",
              "      padding: 0 0 0 0;\n",
              "      width: 32px;\n",
              "    }\n",
              "\n",
              "    .colab-df-convert:hover {\n",
              "      background-color: #E2EBFA;\n",
              "      box-shadow: 0px 1px 2px rgba(60, 64, 67, 0.3), 0px 1px 3px 1px rgba(60, 64, 67, 0.15);\n",
              "      fill: #174EA6;\n",
              "    }\n",
              "\n",
              "    [theme=dark] .colab-df-convert {\n",
              "      background-color: #3B4455;\n",
              "      fill: #D2E3FC;\n",
              "    }\n",
              "\n",
              "    [theme=dark] .colab-df-convert:hover {\n",
              "      background-color: #434B5C;\n",
              "      box-shadow: 0px 1px 3px 1px rgba(0, 0, 0, 0.15);\n",
              "      filter: drop-shadow(0px 1px 2px rgba(0, 0, 0, 0.3));\n",
              "      fill: #FFFFFF;\n",
              "    }\n",
              "  </style>\n",
              "\n",
              "      <script>\n",
              "        const buttonEl =\n",
              "          document.querySelector('#df-18807065-08d4-42b0-928c-847915d54bc9 button.colab-df-convert');\n",
              "        buttonEl.style.display =\n",
              "          google.colab.kernel.accessAllowed ? 'block' : 'none';\n",
              "\n",
              "        async function convertToInteractive(key) {\n",
              "          const element = document.querySelector('#df-18807065-08d4-42b0-928c-847915d54bc9');\n",
              "          const dataTable =\n",
              "            await google.colab.kernel.invokeFunction('convertToInteractive',\n",
              "                                                     [key], {});\n",
              "          if (!dataTable) return;\n",
              "\n",
              "          const docLinkHtml = 'Like what you see? Visit the ' +\n",
              "            '<a target=\"_blank\" href=https://colab.research.google.com/notebooks/data_table.ipynb>data table notebook</a>'\n",
              "            + ' to learn more about interactive tables.';\n",
              "          element.innerHTML = '';\n",
              "          dataTable['output_type'] = 'display_data';\n",
              "          await google.colab.output.renderOutput(dataTable, element);\n",
              "          const docLink = document.createElement('div');\n",
              "          docLink.innerHTML = docLinkHtml;\n",
              "          element.appendChild(docLink);\n",
              "        }\n",
              "      </script>\n",
              "    </div>\n",
              "  </div>\n",
              "  "
            ]
          },
          "metadata": {},
          "execution_count": 99
        }
      ]
    },
    {
      "cell_type": "code",
      "source": [
        "df_loan.info()"
      ],
      "metadata": {
        "colab": {
          "base_uri": "https://localhost:8080/"
        },
        "id": "_GcUnrTxMdbz",
        "outputId": "1d7481d7-8344-4ff2-8705-464f1a638dc2"
      },
      "execution_count": null,
      "outputs": [
        {
          "output_type": "stream",
          "name": "stdout",
          "text": [
            "<class 'pandas.core.frame.DataFrame'>\n",
            "RangeIndex: 466285 entries, 0 to 466284\n",
            "Data columns (total 75 columns):\n",
            " #   Column                       Non-Null Count   Dtype  \n",
            "---  ------                       --------------   -----  \n",
            " 0   Unnamed: 0                   466285 non-null  int64  \n",
            " 1   id                           466285 non-null  int64  \n",
            " 2   member_id                    466285 non-null  int64  \n",
            " 3   loan_amnt                    466285 non-null  int64  \n",
            " 4   funded_amnt                  466285 non-null  int64  \n",
            " 5   funded_amnt_inv              466285 non-null  float64\n",
            " 6   term                         466285 non-null  object \n",
            " 7   int_rate                     466285 non-null  float64\n",
            " 8   installment                  466285 non-null  float64\n",
            " 9   grade                        466285 non-null  object \n",
            " 10  sub_grade                    466285 non-null  object \n",
            " 11  emp_title                    438697 non-null  object \n",
            " 12  emp_length                   445277 non-null  object \n",
            " 13  home_ownership               466285 non-null  object \n",
            " 14  annual_inc                   466281 non-null  float64\n",
            " 15  verification_status          466285 non-null  object \n",
            " 16  issue_d                      466285 non-null  object \n",
            " 17  loan_status                  466285 non-null  object \n",
            " 18  pymnt_plan                   466285 non-null  object \n",
            " 19  url                          466285 non-null  object \n",
            " 20  desc                         125983 non-null  object \n",
            " 21  purpose                      466285 non-null  object \n",
            " 22  title                        466265 non-null  object \n",
            " 23  zip_code                     466285 non-null  object \n",
            " 24  addr_state                   466285 non-null  object \n",
            " 25  dti                          466285 non-null  float64\n",
            " 26  delinq_2yrs                  466256 non-null  float64\n",
            " 27  earliest_cr_line             466256 non-null  object \n",
            " 28  inq_last_6mths               466256 non-null  float64\n",
            " 29  mths_since_last_delinq       215934 non-null  float64\n",
            " 30  mths_since_last_record       62638 non-null   float64\n",
            " 31  open_acc                     466256 non-null  float64\n",
            " 32  pub_rec                      466256 non-null  float64\n",
            " 33  revol_bal                    466285 non-null  int64  \n",
            " 34  revol_util                   465945 non-null  float64\n",
            " 35  total_acc                    466256 non-null  float64\n",
            " 36  initial_list_status          466285 non-null  object \n",
            " 37  out_prncp                    466285 non-null  float64\n",
            " 38  out_prncp_inv                466285 non-null  float64\n",
            " 39  total_pymnt                  466285 non-null  float64\n",
            " 40  total_pymnt_inv              466285 non-null  float64\n",
            " 41  total_rec_prncp              466285 non-null  float64\n",
            " 42  total_rec_int                466285 non-null  float64\n",
            " 43  total_rec_late_fee           466285 non-null  float64\n",
            " 44  recoveries                   466285 non-null  float64\n",
            " 45  collection_recovery_fee      466285 non-null  float64\n",
            " 46  last_pymnt_d                 465909 non-null  object \n",
            " 47  last_pymnt_amnt              466285 non-null  float64\n",
            " 48  next_pymnt_d                 239071 non-null  object \n",
            " 49  last_credit_pull_d           466243 non-null  object \n",
            " 50  collections_12_mths_ex_med   466140 non-null  float64\n",
            " 51  mths_since_last_major_derog  98974 non-null   float64\n",
            " 52  policy_code                  466285 non-null  int64  \n",
            " 53  application_type             466285 non-null  object \n",
            " 54  annual_inc_joint             0 non-null       float64\n",
            " 55  dti_joint                    0 non-null       float64\n",
            " 56  verification_status_joint    0 non-null       float64\n",
            " 57  acc_now_delinq               466256 non-null  float64\n",
            " 58  tot_coll_amt                 396009 non-null  float64\n",
            " 59  tot_cur_bal                  396009 non-null  float64\n",
            " 60  open_acc_6m                  0 non-null       float64\n",
            " 61  open_il_6m                   0 non-null       float64\n",
            " 62  open_il_12m                  0 non-null       float64\n",
            " 63  open_il_24m                  0 non-null       float64\n",
            " 64  mths_since_rcnt_il           0 non-null       float64\n",
            " 65  total_bal_il                 0 non-null       float64\n",
            " 66  il_util                      0 non-null       float64\n",
            " 67  open_rv_12m                  0 non-null       float64\n",
            " 68  open_rv_24m                  0 non-null       float64\n",
            " 69  max_bal_bc                   0 non-null       float64\n",
            " 70  all_util                     0 non-null       float64\n",
            " 71  total_rev_hi_lim             396009 non-null  float64\n",
            " 72  inq_fi                       0 non-null       float64\n",
            " 73  total_cu_tl                  0 non-null       float64\n",
            " 74  inq_last_12m                 0 non-null       float64\n",
            "dtypes: float64(46), int64(7), object(22)\n",
            "memory usage: 266.8+ MB\n"
          ]
        }
      ]
    },
    {
      "cell_type": "code",
      "source": [
        "df_loan.drop(columns='Unnamed: 0',inplace=True)"
      ],
      "metadata": {
        "id": "t-sYmSnWMElX"
      },
      "execution_count": null,
      "outputs": []
    },
    {
      "cell_type": "markdown",
      "source": [
        "## Target Data Understanding"
      ],
      "metadata": {
        "id": "fVyIsbHV12Bg"
      }
    },
    {
      "cell_type": "code",
      "source": [
        "# Cek variabel target\n",
        "\n",
        "df_loan['loan_status'].unique()"
      ],
      "metadata": {
        "colab": {
          "base_uri": "https://localhost:8080/"
        },
        "id": "iAPi7GCPJcVw",
        "outputId": "5d4dccd1-4b66-4671-d720-d0a218673db2"
      },
      "execution_count": null,
      "outputs": [
        {
          "output_type": "execute_result",
          "data": {
            "text/plain": [
              "array(['Fully Paid', 'Charged Off', 'Current', 'Default',\n",
              "       'Late (31-120 days)', 'In Grace Period', 'Late (16-30 days)',\n",
              "       'Does not meet the credit policy. Status:Fully Paid',\n",
              "       'Does not meet the credit policy. Status:Charged Off'],\n",
              "      dtype=object)"
            ]
          },
          "metadata": {},
          "execution_count": 102
        }
      ]
    },
    {
      "cell_type": "markdown",
      "source": [
        "Dari loan_status yang merupakan target, dilabelkan menjadi kategori Good dan Bad. Dan berikut detail dari kategori untuk setiap label:\n",
        "\n",
        "Good :\n",
        "- In Grace Period\n",
        "- Fully Paid\n",
        "- Current\n",
        "- Default\n",
        "\n",
        "Bad :    \n",
        "- Charged off\n",
        "- Late (31-120 days)\n",
        "- Late (16-30 days)\n",
        "- Does not meet the credit policy. Status:Charged Off\n",
        "- Does not meet the credit policy. Status:Fully Paid"
      ],
      "metadata": {
        "id": "GKB8yARnMNbj"
      }
    },
    {
      "cell_type": "code",
      "source": [
        "newloan =  df_loan\n",
        "\n",
        "# Melabelkan target yang sudah didefinisikan\n",
        "newloan['target'] = np.where((newloan['loan_status'] =='In Grace Period') | \n",
        "                         (newloan['loan_status'] =='Fully Paid') |\n",
        "                         (newloan['loan_status'] =='Current') | \n",
        "                         (newloan['loan_status'] =='Default'),0,1)"
      ],
      "metadata": {
        "id": "pkVtx-ZfJljh"
      },
      "execution_count": null,
      "outputs": []
    },
    {
      "cell_type": "code",
      "source": [
        "df = newloan.groupby('target').agg({'id':'count'}).reset_index()\n",
        "df.columns = ['target','total']\n",
        "df['%'] = round(df['total']*100/sum(df['total']),3)\n",
        "df"
      ],
      "metadata": {
        "colab": {
          "base_uri": "https://localhost:8080/"
        },
        "id": "GmBYdv5VRigo",
        "outputId": "aef04e79-88ec-40d3-bd29-caebcebd991e"
      },
      "execution_count": null,
      "outputs": [
        {
          "output_type": "execute_result",
          "data": {
            "text/plain": [
              "   target   total      %\n",
              "0       0  412943  88.56\n",
              "1       1   53342  11.44"
            ],
            "text/html": [
              "\n",
              "  <div id=\"df-1e67215c-74a9-45b9-af2f-d5060a548968\">\n",
              "    <div class=\"colab-df-container\">\n",
              "      <div>\n",
              "<style scoped>\n",
              "    .dataframe tbody tr th:only-of-type {\n",
              "        vertical-align: middle;\n",
              "    }\n",
              "\n",
              "    .dataframe tbody tr th {\n",
              "        vertical-align: top;\n",
              "    }\n",
              "\n",
              "    .dataframe thead th {\n",
              "        text-align: right;\n",
              "    }\n",
              "</style>\n",
              "<table border=\"1\" class=\"dataframe\">\n",
              "  <thead>\n",
              "    <tr style=\"text-align: right;\">\n",
              "      <th></th>\n",
              "      <th>target</th>\n",
              "      <th>total</th>\n",
              "      <th>%</th>\n",
              "    </tr>\n",
              "  </thead>\n",
              "  <tbody>\n",
              "    <tr>\n",
              "      <th>0</th>\n",
              "      <td>0</td>\n",
              "      <td>412943</td>\n",
              "      <td>88.56</td>\n",
              "    </tr>\n",
              "    <tr>\n",
              "      <th>1</th>\n",
              "      <td>1</td>\n",
              "      <td>53342</td>\n",
              "      <td>11.44</td>\n",
              "    </tr>\n",
              "  </tbody>\n",
              "</table>\n",
              "</div>\n",
              "      <button class=\"colab-df-convert\" onclick=\"convertToInteractive('df-1e67215c-74a9-45b9-af2f-d5060a548968')\"\n",
              "              title=\"Convert this dataframe to an interactive table.\"\n",
              "              style=\"display:none;\">\n",
              "        \n",
              "  <svg xmlns=\"http://www.w3.org/2000/svg\" height=\"24px\"viewBox=\"0 0 24 24\"\n",
              "       width=\"24px\">\n",
              "    <path d=\"M0 0h24v24H0V0z\" fill=\"none\"/>\n",
              "    <path d=\"M18.56 5.44l.94 2.06.94-2.06 2.06-.94-2.06-.94-.94-2.06-.94 2.06-2.06.94zm-11 1L8.5 8.5l.94-2.06 2.06-.94-2.06-.94L8.5 2.5l-.94 2.06-2.06.94zm10 10l.94 2.06.94-2.06 2.06-.94-2.06-.94-.94-2.06-.94 2.06-2.06.94z\"/><path d=\"M17.41 7.96l-1.37-1.37c-.4-.4-.92-.59-1.43-.59-.52 0-1.04.2-1.43.59L10.3 9.45l-7.72 7.72c-.78.78-.78 2.05 0 2.83L4 21.41c.39.39.9.59 1.41.59.51 0 1.02-.2 1.41-.59l7.78-7.78 2.81-2.81c.8-.78.8-2.07 0-2.86zM5.41 20L4 18.59l7.72-7.72 1.47 1.35L5.41 20z\"/>\n",
              "  </svg>\n",
              "      </button>\n",
              "      \n",
              "  <style>\n",
              "    .colab-df-container {\n",
              "      display:flex;\n",
              "      flex-wrap:wrap;\n",
              "      gap: 12px;\n",
              "    }\n",
              "\n",
              "    .colab-df-convert {\n",
              "      background-color: #E8F0FE;\n",
              "      border: none;\n",
              "      border-radius: 50%;\n",
              "      cursor: pointer;\n",
              "      display: none;\n",
              "      fill: #1967D2;\n",
              "      height: 32px;\n",
              "      padding: 0 0 0 0;\n",
              "      width: 32px;\n",
              "    }\n",
              "\n",
              "    .colab-df-convert:hover {\n",
              "      background-color: #E2EBFA;\n",
              "      box-shadow: 0px 1px 2px rgba(60, 64, 67, 0.3), 0px 1px 3px 1px rgba(60, 64, 67, 0.15);\n",
              "      fill: #174EA6;\n",
              "    }\n",
              "\n",
              "    [theme=dark] .colab-df-convert {\n",
              "      background-color: #3B4455;\n",
              "      fill: #D2E3FC;\n",
              "    }\n",
              "\n",
              "    [theme=dark] .colab-df-convert:hover {\n",
              "      background-color: #434B5C;\n",
              "      box-shadow: 0px 1px 3px 1px rgba(0, 0, 0, 0.15);\n",
              "      filter: drop-shadow(0px 1px 2px rgba(0, 0, 0, 0.3));\n",
              "      fill: #FFFFFF;\n",
              "    }\n",
              "  </style>\n",
              "\n",
              "      <script>\n",
              "        const buttonEl =\n",
              "          document.querySelector('#df-1e67215c-74a9-45b9-af2f-d5060a548968 button.colab-df-convert');\n",
              "        buttonEl.style.display =\n",
              "          google.colab.kernel.accessAllowed ? 'block' : 'none';\n",
              "\n",
              "        async function convertToInteractive(key) {\n",
              "          const element = document.querySelector('#df-1e67215c-74a9-45b9-af2f-d5060a548968');\n",
              "          const dataTable =\n",
              "            await google.colab.kernel.invokeFunction('convertToInteractive',\n",
              "                                                     [key], {});\n",
              "          if (!dataTable) return;\n",
              "\n",
              "          const docLinkHtml = 'Like what you see? Visit the ' +\n",
              "            '<a target=\"_blank\" href=https://colab.research.google.com/notebooks/data_table.ipynb>data table notebook</a>'\n",
              "            + ' to learn more about interactive tables.';\n",
              "          element.innerHTML = '';\n",
              "          dataTable['output_type'] = 'display_data';\n",
              "          await google.colab.output.renderOutput(dataTable, element);\n",
              "          const docLink = document.createElement('div');\n",
              "          docLink.innerHTML = docLinkHtml;\n",
              "          element.appendChild(docLink);\n",
              "        }\n",
              "      </script>\n",
              "    </div>\n",
              "  </div>\n",
              "  "
            ]
          },
          "metadata": {},
          "execution_count": 104
        }
      ]
    },
    {
      "cell_type": "code",
      "source": [
        "colors = ['#3A9679', '#E16262']\n",
        "labels = ['Good Loan', 'Bad Loan']\n",
        "plt.pie(df['total'],labels=labels, autopct='%.2f%%', colors=colors)\n",
        "plt.show()"
      ],
      "metadata": {
        "colab": {
          "base_uri": "https://localhost:8080/",
          "height": 248
        },
        "id": "3pvGcXpLT1aq",
        "outputId": "a38324de-948c-4069-cb95-a6bd4da5e50f"
      },
      "execution_count": 133,
      "outputs": [
        {
          "output_type": "display_data",
          "data": {
            "text/plain": [
              "<Figure size 432x288 with 1 Axes>"
            ],
            "image/png": "[encoded data removed]"
          },
          "metadata": {}
        }
      ]
    },
    {
      "cell_type": "markdown",
      "source": [
        "##Feature Selection"
      ],
      "metadata": {
        "id": "IlaqEKkpXMnZ"
      }
    },
    {
      "cell_type": "code",
      "source": [
        "newloan.info()"
      ],
      "metadata": {
        "colab": {
          "base_uri": "https://localhost:8080/"
        },
        "id": "_lj1iI5hpGtF",
        "outputId": "de956e89-a68e-4bce-f4a6-43b843984037"
      },
      "execution_count": null,
      "outputs": [
        {
          "output_type": "stream",
          "name": "stdout",
          "text": [
            "<class 'pandas.core.frame.DataFrame'>\n",
            "RangeIndex: 466285 entries, 0 to 466284\n",
            "Data columns (total 75 columns):\n",
            " #   Column                       Non-Null Count   Dtype  \n",
            "---  ------                       --------------   -----  \n",
            " 0   id                           466285 non-null  int64  \n",
            " 1   member_id                    466285 non-null  int64  \n",
            " 2   loan_amnt                    466285 non-null  int64  \n",
            " 3   funded_amnt                  466285 non-null  int64  \n",
            " 4   funded_amnt_inv              466285 non-null  float64\n",
            " 5   term                         466285 non-null  object \n",
            " 6   int_rate                     466285 non-null  float64\n",
            " 7   installment                  466285 non-null  float64\n",
            " 8   grade                        466285 non-null  object \n",
            " 9   sub_grade                    466285 non-null  object \n",
            " 10  emp_title                    438697 non-null  object \n",
            " 11  emp_length                   445277 non-null  object \n",
            " 12  home_ownership               466285 non-null  object \n",
            " 13  annual_inc                   466281 non-null  float64\n",
            " 14  verification_status          466285 non-null  object \n",
            " 15  issue_d                      466285 non-null  object \n",
            " 16  loan_status                  466285 non-null  object \n",
            " 17  pymnt_plan                   466285 non-null  object \n",
            " 18  url                          466285 non-null  object \n",
            " 19  desc                         125983 non-null  object \n",
            " 20  purpose                      466285 non-null  object \n",
            " 21  title                        466265 non-null  object \n",
            " 22  zip_code                     466285 non-null  object \n",
            " 23  addr_state                   466285 non-null  object \n",
            " 24  dti                          466285 non-null  float64\n",
            " 25  delinq_2yrs                  466256 non-null  float64\n",
            " 26  earliest_cr_line             466256 non-null  object \n",
            " 27  inq_last_6mths               466256 non-null  float64\n",
            " 28  mths_since_last_delinq       215934 non-null  float64\n",
            " 29  mths_since_last_record       62638 non-null   float64\n",
            " 30  open_acc                     466256 non-null  float64\n",
            " 31  pub_rec                      466256 non-null  float64\n",
            " 32  revol_bal                    466285 non-null  int64  \n",
            " 33  revol_util                   465945 non-null  float64\n",
            " 34  total_acc                    466256 non-null  float64\n",
            " 35  initial_list_status          466285 non-null  object \n",
            " 36  out_prncp                    466285 non-null  float64\n",
            " 37  out_prncp_inv                466285 non-null  float64\n",
            " 38  total_pymnt                  466285 non-null  float64\n",
            " 39  total_pymnt_inv              466285 non-null  float64\n",
            " 40  total_rec_prncp              466285 non-null  float64\n",
            " 41  total_rec_int                466285 non-null  float64\n",
            " 42  total_rec_late_fee           466285 non-null  float64\n",
            " 43  recoveries                   466285 non-null  float64\n",
            " 44  collection_recovery_fee      466285 non-null  float64\n",
            " 45  last_pymnt_d                 465909 non-null  object \n",
            " 46  last_pymnt_amnt              466285 non-null  float64\n",
            " 47  next_pymnt_d                 239071 non-null  object \n",
            " 48  last_credit_pull_d           466243 non-null  object \n",
            " 49  collections_12_mths_ex_med   466140 non-null  float64\n",
            " 50  mths_since_last_major_derog  98974 non-null   float64\n",
            " 51  policy_code                  466285 non-null  int64  \n",
            " 52  application_type             466285 non-null  object \n",
            " 53  annual_inc_joint             0 non-null       float64\n",
            " 54  dti_joint                    0 non-null       float64\n",
            " 55  verification_status_joint    0 non-null       float64\n",
            " 56  acc_now_delinq               466256 non-null  float64\n",
            " 57  tot_coll_amt                 396009 non-null  float64\n",
            " 58  tot_cur_bal                  396009 non-null  float64\n",
            " 59  open_acc_6m                  0 non-null       float64\n",
            " 60  open_il_6m                   0 non-null       float64\n",
            " 61  open_il_12m                  0 non-null       float64\n",
            " 62  open_il_24m                  0 non-null       float64\n",
            " 63  mths_since_rcnt_il           0 non-null       float64\n",
            " 64  total_bal_il                 0 non-null       float64\n",
            " 65  il_util                      0 non-null       float64\n",
            " 66  open_rv_12m                  0 non-null       float64\n",
            " 67  open_rv_24m                  0 non-null       float64\n",
            " 68  max_bal_bc                   0 non-null       float64\n",
            " 69  all_util                     0 non-null       float64\n",
            " 70  total_rev_hi_lim             396009 non-null  float64\n",
            " 71  inq_fi                       0 non-null       float64\n",
            " 72  total_cu_tl                  0 non-null       float64\n",
            " 73  inq_last_12m                 0 non-null       float64\n",
            " 74  target                       466285 non-null  int64  \n",
            "dtypes: float64(46), int64(7), object(22)\n",
            "memory usage: 266.8+ MB\n"
          ]
        }
      ]
    },
    {
      "cell_type": "code",
      "source": [
        "#Melakukan random sample untuk meringankan komputasi\n",
        "fs_loan = newloan.sample(frac=0.3)"
      ],
      "metadata": {
        "id": "Ec771QUXm4q3"
      },
      "execution_count": null,
      "outputs": []
    },
    {
      "cell_type": "code",
      "source": [
        "fs_loan = fs_loan.drop(\"loan_status\", axis=1)"
      ],
      "metadata": {
        "id": "QeLjv9FCYXVv"
      },
      "execution_count": null,
      "outputs": []
    },
    {
      "cell_type": "markdown",
      "source": [
        "Menggunakan WOE and IV\n",
        "\n",
        "![image.png](data:image/png;base64,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)\n",
        "\n",
        "Sumber : https://sundarstyles89.medium.com/weight-of-evidence-and-information-value-using-python-6f05072e83eb\\"
      ],
      "metadata": {
        "id": "3gCBDyuFawy9"
      }
    },
    {
      "cell_type": "markdown",
      "source": [
        "Alasan penggunaan dari segi kelebihannya yaitu :     \n",
        "- Menangangi missing value\n",
        "- Menangani outliers\n",
        "- Transformasi didasarkan pada nilai logaritmik dari distribusi. Ini selaras dengan fungsi keluaran regresi logistik\n",
        "- Dengan menggunakan teknik binning yang tepat dapat membentuk hubungan yang monoton (baik naik atau turun) antara variabel bebas dan variabel terikat"
      ],
      "metadata": {
        "id": "djtrjtCb-dsr"
      }
    },
    {
      "cell_type": "code",
      "source": [
        "#Import Packages\n",
        "import pandas.core.algorithms as algos\n",
        "from pandas import Series\n",
        "import scipy.stats.stats as stats\n",
        "import re\n",
        "import traceback\n",
        "import string"
      ],
      "metadata": {
        "id": "0_GVM0mObrYD"
      },
      "execution_count": null,
      "outputs": []
    },
    {
      "cell_type": "code",
      "source": [
        "#Mendefinisikan fungsi untuk WOE dan IV\n",
        "max_bin = 20\n",
        "force_bin = 3\n",
        "\n",
        "# define a binning function\n",
        "def mono_bin(Y, X, n = max_bin):\n",
        "    \n",
        "    df1 = pd.DataFrame({\"X\": X, \"Y\": Y})\n",
        "    justmiss = df1[['X','Y']][df1.X.isnull()]\n",
        "    notmiss = df1[['X','Y']][df1.X.notnull()]\n",
        "    r = 0\n",
        "    while np.abs(r) < 1:\n",
        "        try:\n",
        "            d1 = pd.DataFrame({\"X\": notmiss.X, \"Y\": notmiss.Y, \"Bucket\": pd.qcut(notmiss.X, n)})\n",
        "            d2 = d1.groupby('Bucket', as_index=True)\n",
        "            r, p = stats.spearmanr(d2.mean().X, d2.mean().Y)\n",
        "            n = n - 1 \n",
        "        except Exception as e:\n",
        "            n = n - 1\n",
        "\n",
        "    if len(d2) == 1:\n",
        "        n = force_bin         \n",
        "        bins = algos.quantile(notmiss.X, np.linspace(0, 1, n))\n",
        "        if len(np.unique(bins)) == 2:\n",
        "            bins = np.insert(bins, 0, 1)\n",
        "            bins[1] = bins[1]-(bins[1]/2)\n",
        "        d1 = pd.DataFrame({\"X\": notmiss.X, \"Y\": notmiss.Y, \"Bucket\": pd.cut(notmiss.X, np.unique(bins),include_lowest=True)}) \n",
        "        d2 = d1.groupby('Bucket', as_index=True)\n",
        "    \n",
        "    d3 = pd.DataFrame({},index=[])\n",
        "    d3[\"MIN_VALUE\"] = d2.min().X\n",
        "    d3[\"MAX_VALUE\"] = d2.max().X\n",
        "    d3[\"COUNT\"] = d2.count().Y\n",
        "    d3[\"EVENT\"] = d2.sum().Y\n",
        "    d3[\"NONEVENT\"] = d2.count().Y - d2.sum().Y\n",
        "    d3=d3.reset_index(drop=True)\n",
        "    \n",
        "    if len(justmiss.index) > 0:\n",
        "        d4 = pd.DataFrame({'MIN_VALUE':np.nan},index=[0])\n",
        "        d4[\"MAX_VALUE\"] = np.nan\n",
        "        d4[\"COUNT\"] = justmiss.count().Y\n",
        "        d4[\"EVENT\"] = justmiss.sum().Y\n",
        "        d4[\"NONEVENT\"] = justmiss.count().Y - justmiss.sum().Y\n",
        "        d3 = d3.append(d4,ignore_index=True)\n",
        "    \n",
        "    d3[\"EVENT_RATE\"] = d3.EVENT/d3.COUNT\n",
        "    d3[\"NON_EVENT_RATE\"] = d3.NONEVENT/d3.COUNT\n",
        "    d3[\"DIST_EVENT\"] = d3.EVENT/d3.sum().EVENT\n",
        "    d3[\"DIST_NON_EVENT\"] = d3.NONEVENT/d3.sum().NONEVENT\n",
        "    d3[\"WOE\"] = np.log(d3.DIST_EVENT/d3.DIST_NON_EVENT)\n",
        "    d3[\"IV\"] = (d3.DIST_EVENT-d3.DIST_NON_EVENT)*np.log(d3.DIST_EVENT/d3.DIST_NON_EVENT)\n",
        "    d3[\"VAR_NAME\"] = \"VAR\"\n",
        "    d3 = d3[['VAR_NAME','MIN_VALUE', 'MAX_VALUE', 'COUNT', 'EVENT', 'EVENT_RATE', 'NONEVENT', 'NON_EVENT_RATE', 'DIST_EVENT','DIST_NON_EVENT','WOE', 'IV']]       \n",
        "    d3 = d3.replace([np.inf, -np.inf], 0)\n",
        "    d3.IV = d3.IV.sum()\n",
        "    \n",
        "    return(d3)\n",
        "\n",
        "def char_bin(Y, X):\n",
        "        \n",
        "    df1 = pd.DataFrame({\"X\": X, \"Y\": Y})\n",
        "    justmiss = df1[['X','Y']][df1.X.isnull()]\n",
        "    notmiss = df1[['X','Y']][df1.X.notnull()]    \n",
        "    df2 = notmiss.groupby('X',as_index=True)\n",
        "    \n",
        "    d3 = pd.DataFrame({},index=[])\n",
        "    d3[\"COUNT\"] = df2.count().Y\n",
        "    d3[\"MIN_VALUE\"] = df2.sum().Y.index\n",
        "    d3[\"MAX_VALUE\"] = d3[\"MIN_VALUE\"]\n",
        "    d3[\"EVENT\"] = df2.sum().Y\n",
        "    d3[\"NONEVENT\"] = df2.count().Y - df2.sum().Y\n",
        "    \n",
        "    if len(justmiss.index) > 0:\n",
        "        d4 = pd.DataFrame({'MIN_VALUE':np.nan},index=[0])\n",
        "        d4[\"MAX_VALUE\"] = np.nan\n",
        "        d4[\"COUNT\"] = justmiss.count().Y\n",
        "        d4[\"EVENT\"] = justmiss.sum().Y\n",
        "        d4[\"NONEVENT\"] = justmiss.count().Y - justmiss.sum().Y\n",
        "        d3 = d3.append(d4,ignore_index=True)\n",
        "    \n",
        "    d3[\"EVENT_RATE\"] = d3.EVENT/d3.COUNT\n",
        "    d3[\"NON_EVENT_RATE\"] = d3.NONEVENT/d3.COUNT\n",
        "    d3[\"DIST_EVENT\"] = d3.EVENT/d3.sum().EVENT\n",
        "    d3[\"DIST_NON_EVENT\"] = d3.NONEVENT/d3.sum().NONEVENT\n",
        "    d3[\"WOE\"] = np.log(d3.DIST_EVENT/d3.DIST_NON_EVENT)\n",
        "    d3[\"IV\"] = (d3.DIST_EVENT-d3.DIST_NON_EVENT)*np.log(d3.DIST_EVENT/d3.DIST_NON_EVENT)\n",
        "    d3[\"VAR_NAME\"] = \"VAR\"\n",
        "    d3 = d3[['VAR_NAME','MIN_VALUE', 'MAX_VALUE', 'COUNT', 'EVENT', 'EVENT_RATE', 'NONEVENT', 'NON_EVENT_RATE', 'DIST_EVENT','DIST_NON_EVENT','WOE', 'IV']]      \n",
        "    d3 = d3.replace([np.inf, -np.inf], 0)\n",
        "    d3.IV = d3.IV.sum()\n",
        "    d3 = d3.reset_index(drop=True)\n",
        "    \n",
        "    return(d3)\n",
        "\n",
        "def data_vars(df1, target):\n",
        "    \n",
        "    stack = traceback.extract_stack()\n",
        "    filename, lineno, function_name, code = stack[-2]\n",
        "    vars_name = re.compile(r'\\((.*?)\\).*$').search(code).groups()[0]\n",
        "    final = (re.findall(r\"[\\w']+\", vars_name))[-1]\n",
        "    \n",
        "    x = df1.dtypes.index\n",
        "    count = -1\n",
        "    \n",
        "    for i in x:\n",
        "        if i.upper() not in (final.upper()):\n",
        "            if np.issubdtype(df1[i], np.number) and len(Series.unique(df1[i])) > 2:\n",
        "                conv = mono_bin(target, df1[i])\n",
        "                conv[\"VAR_NAME\"] = i\n",
        "                count = count + 1\n",
        "            else:\n",
        "                conv = char_bin(target, df1[i])\n",
        "                conv[\"VAR_NAME\"] = i            \n",
        "                count = count + 1\n",
        "                \n",
        "            if count == 0:\n",
        "                iv_df = conv\n",
        "            else:\n",
        "                iv_df = iv_df.append(conv,ignore_index=True)\n",
        "    \n",
        "    iv = pd.DataFrame({'IV':iv_df.groupby('VAR_NAME').IV.max()})\n",
        "    iv = iv.reset_index()\n",
        "    return(iv_df,iv) "
      ],
      "metadata": {
        "id": "dGQ_wOR3Uy0I"
      },
      "execution_count": null,
      "outputs": []
    },
    {
      "cell_type": "code",
      "source": [
        "final_iv, IV = data_vars(fs_loan,fs_loan.target)"
      ],
      "metadata": {
        "colab": {
          "base_uri": "https://localhost:8080/"
        },
        "id": "ddhu-TDWb2FQ",
        "outputId": "22c904b6-6588-49ea-82b8-cc0189f36ee7"
      },
      "execution_count": null,
      "outputs": [
        {
          "output_type": "stream",
          "name": "stderr",
          "text": [
            "/usr/local/lib/python3.7/dist-packages/ipykernel_launcher.py:83: FutureWarning: Dropping of nuisance columns in DataFrame reductions (with 'numeric_only=None') is deprecated; in a future version this will raise TypeError.  Select only valid columns before calling the reduction.\n",
            "/usr/local/lib/python3.7/dist-packages/ipykernel_launcher.py:84: FutureWarning: Dropping of nuisance columns in DataFrame reductions (with 'numeric_only=None') is deprecated; in a future version this will raise TypeError.  Select only valid columns before calling the reduction.\n",
            "/usr/local/lib/python3.7/dist-packages/pandas/core/arraylike.py:364: RuntimeWarning: divide by zero encountered in log\n",
            "  result = getattr(ufunc, method)(*inputs, **kwargs)\n"
          ]
        }
      ]
    },
    {
      "cell_type": "markdown",
      "source": [
        "Mengambil nilai IV >= 0.3 "
      ],
      "metadata": {
        "id": "8mo_w22QxQp-"
      }
    },
    {
      "cell_type": "code",
      "source": [
        "df_sorted = IV[IV.IV>=0.3].sort_values('IV', ascending=False)\n",
        "plt.bar('VAR_NAME', 'IV', data=df_sorted, color='#06283D')\n",
        "plt.xticks(rotation=90)\n",
        "plt.show()"
      ],
      "metadata": {
        "colab": {
          "base_uri": "https://localhost:8080/",
          "height": 342
        },
        "id": "biJH7F_5v6n2",
        "outputId": "324ca2e8-0b33-4554-a224-776f83d1ffa9"
      },
      "execution_count": null,
      "outputs": [
        {
          "output_type": "display_data",
          "data": {
            "text/plain": [
              "<Figure size 432x288 with 1 Axes>"
            ],
            "image/png": "[encoded data removed]"
          },
          "metadata": {
            "needs_background": "light"
          }
        }
      ]
    },
    {
      "cell_type": "markdown",
      "source": [
        "Dengan menggunakan IV didapatkan 11 feature yang masuk dalam kategori strong predictior dan suspicious or too good to be true :    \n",
        "- last_pymnt_d\n",
        "- total_rec_prncp\n",
        "- las_pymnt_amnt\n",
        "- out_prncp\n",
        "- out_prncp_inv\n",
        "- next_pymnt_d\n",
        "- total_pymnt_inv\n",
        "- total_pymnt\n",
        "- last_credit_pull_d\n",
        "- sub_grade\n",
        "- int_rate\n",
        "\n",
        "Setelah didapatkan, ada tiga feature yang dibuang karena bersifat tanggal dan kurang cocok untuk dimasukkan dalam feature selection, yaitu :    \n",
        "- last_pymnt_d\n",
        "- next_pymnt_d\n",
        "- last_credit_pull_d"
      ],
      "metadata": {
        "id": "ezthaqPw0_IE"
      }
    },
    {
      "cell_type": "code",
      "source": [
        "df_loan_fs = newloan[['total_rec_prncp', 'out_prncp', 'out_prncp_inv', 'total_pymnt_inv', 'total_pymnt', 'sub_grade', 'int_rate', 'target']]\n",
        "df_loan_fs.info()"
      ],
      "metadata": {
        "colab": {
          "base_uri": "https://localhost:8080/"
        },
        "id": "23QGBb9r3X4E",
        "outputId": "33a4c590-a899-48e5-f49b-facbab83f052"
      },
      "execution_count": null,
      "outputs": [
        {
          "output_type": "stream",
          "name": "stdout",
          "text": [
            "<class 'pandas.core.frame.DataFrame'>\n",
            "RangeIndex: 466285 entries, 0 to 466284\n",
            "Data columns (total 8 columns):\n",
            " #   Column           Non-Null Count   Dtype  \n",
            "---  ------           --------------   -----  \n",
            " 0   total_rec_prncp  466285 non-null  float64\n",
            " 1   out_prncp        466285 non-null  float64\n",
            " 2   out_prncp_inv    466285 non-null  float64\n",
            " 3   total_pymnt_inv  466285 non-null  float64\n",
            " 4   total_pymnt      466285 non-null  float64\n",
            " 5   sub_grade        466285 non-null  object \n",
            " 6   int_rate         466285 non-null  float64\n",
            " 7   target           466285 non-null  int64  \n",
            "dtypes: float64(6), int64(1), object(1)\n",
            "memory usage: 28.5+ MB\n"
          ]
        }
      ]
    },
    {
      "cell_type": "markdown",
      "source": [
        "##Preprocessing Data"
      ],
      "metadata": {
        "id": "p7yEk9yD6QtF"
      }
    },
    {
      "cell_type": "code",
      "source": [
        "#Cek Persentase Null data\n",
        "null_data = [(i/df_loan_fs.shape[0])*100 for i in df_loan_fs.isnull().sum()]\n",
        "\n",
        "pd.set_option('display.max_rows', df_loan_fs.shape[1])\n",
        "\n",
        "df_null_data = pd.DataFrame({\n",
        "    'column' : df_loan_fs.columns,\n",
        "    'persentase null' : null_data\n",
        "})\n",
        "\n",
        "df_null_data"
      ],
      "metadata": {
        "colab": {
          "base_uri": "https://localhost:8080/",
          "height": 300
        },
        "id": "e4mTT0Yf09mr",
        "outputId": "8f359b73-048e-4493-daf8-05cc6eba712f"
      },
      "execution_count": null,
      "outputs": [
        {
          "output_type": "execute_result",
          "data": {
            "text/plain": [
              "            column  persentase null\n",
              "0  total_rec_prncp              0.0\n",
              "1        out_prncp              0.0\n",
              "2    out_prncp_inv              0.0\n",
              "3  total_pymnt_inv              0.0\n",
              "4      total_pymnt              0.0\n",
              "5        sub_grade              0.0\n",
              "6         int_rate              0.0\n",
              "7           target              0.0"
            ],
            "text/html": [
              "\n",
              "  <div id=\"df-604652c5-92dc-46fd-a99a-65875c24511d\">\n",
              "    <div class=\"colab-df-container\">\n",
              "      <div>\n",
              "<style scoped>\n",
              "    .dataframe tbody tr th:only-of-type {\n",
              "        vertical-align: middle;\n",
              "    }\n",
              "\n",
              "    .dataframe tbody tr th {\n",
              "        vertical-align: top;\n",
              "    }\n",
              "\n",
              "    .dataframe thead th {\n",
              "        text-align: right;\n",
              "    }\n",
              "</style>\n",
              "<table border=\"1\" class=\"dataframe\">\n",
              "  <thead>\n",
              "    <tr style=\"text-align: right;\">\n",
              "      <th></th>\n",
              "      <th>column</th>\n",
              "      <th>persentase null</th>\n",
              "    </tr>\n",
              "  </thead>\n",
              "  <tbody>\n",
              "    <tr>\n",
              "      <th>0</th>\n",
              "      <td>total_rec_prncp</td>\n",
              "      <td>0.0</td>\n",
              "    </tr>\n",
              "    <tr>\n",
              "      <th>1</th>\n",
              "      <td>out_prncp</td>\n",
              "      <td>0.0</td>\n",
              "    </tr>\n",
              "    <tr>\n",
              "      <th>2</th>\n",
              "      <td>out_prncp_inv</td>\n",
              "      <td>0.0</td>\n",
              "    </tr>\n",
              "    <tr>\n",
              "      <th>3</th>\n",
              "      <td>total_pymnt_inv</td>\n",
              "      <td>0.0</td>\n",
              "    </tr>\n",
              "    <tr>\n",
              "      <th>4</th>\n",
              "      <td>total_pymnt</td>\n",
              "      <td>0.0</td>\n",
              "    </tr>\n",
              "    <tr>\n",
              "      <th>5</th>\n",
              "      <td>sub_grade</td>\n",
              "      <td>0.0</td>\n",
              "    </tr>\n",
              "    <tr>\n",
              "      <th>6</th>\n",
              "      <td>int_rate</td>\n",
              "      <td>0.0</td>\n",
              "    </tr>\n",
              "    <tr>\n",
              "      <th>7</th>\n",
              "      <td>target</td>\n",
              "      <td>0.0</td>\n",
              "    </tr>\n",
              "  </tbody>\n",
              "</table>\n",
              "</div>\n",
              "      <button class=\"colab-df-convert\" onclick=\"convertToInteractive('df-604652c5-92dc-46fd-a99a-65875c24511d')\"\n",
              "              title=\"Convert this dataframe to an interactive table.\"\n",
              "              style=\"display:none;\">\n",
              "        \n",
              "  <svg xmlns=\"http://www.w3.org/2000/svg\" height=\"24px\"viewBox=\"0 0 24 24\"\n",
              "       width=\"24px\">\n",
              "    <path d=\"M0 0h24v24H0V0z\" fill=\"none\"/>\n",
              "    <path d=\"M18.56 5.44l.94 2.06.94-2.06 2.06-.94-2.06-.94-.94-2.06-.94 2.06-2.06.94zm-11 1L8.5 8.5l.94-2.06 2.06-.94-2.06-.94L8.5 2.5l-.94 2.06-2.06.94zm10 10l.94 2.06.94-2.06 2.06-.94-2.06-.94-.94-2.06-.94 2.06-2.06.94z\"/><path d=\"M17.41 7.96l-1.37-1.37c-.4-.4-.92-.59-1.43-.59-.52 0-1.04.2-1.43.59L10.3 9.45l-7.72 7.72c-.78.78-.78 2.05 0 2.83L4 21.41c.39.39.9.59 1.41.59.51 0 1.02-.2 1.41-.59l7.78-7.78 2.81-2.81c.8-.78.8-2.07 0-2.86zM5.41 20L4 18.59l7.72-7.72 1.47 1.35L5.41 20z\"/>\n",
              "  </svg>\n",
              "      </button>\n",
              "      \n",
              "  <style>\n",
              "    .colab-df-container {\n",
              "      display:flex;\n",
              "      flex-wrap:wrap;\n",
              "      gap: 12px;\n",
              "    }\n",
              "\n",
              "    .colab-df-convert {\n",
              "      background-color: #E8F0FE;\n",
              "      border: none;\n",
              "      border-radius: 50%;\n",
              "      cursor: pointer;\n",
              "      display: none;\n",
              "      fill: #1967D2;\n",
              "      height: 32px;\n",
              "      padding: 0 0 0 0;\n",
              "      width: 32px;\n",
              "    }\n",
              "\n",
              "    .colab-df-convert:hover {\n",
              "      background-color: #E2EBFA;\n",
              "      box-shadow: 0px 1px 2px rgba(60, 64, 67, 0.3), 0px 1px 3px 1px rgba(60, 64, 67, 0.15);\n",
              "      fill: #174EA6;\n",
              "    }\n",
              "\n",
              "    [theme=dark] .colab-df-convert {\n",
              "      background-color: #3B4455;\n",
              "      fill: #D2E3FC;\n",
              "    }\n",
              "\n",
              "    [theme=dark] .colab-df-convert:hover {\n",
              "      background-color: #434B5C;\n",
              "      box-shadow: 0px 1px 3px 1px rgba(0, 0, 0, 0.15);\n",
              "      filter: drop-shadow(0px 1px 2px rgba(0, 0, 0, 0.3));\n",
              "      fill: #FFFFFF;\n",
              "    }\n",
              "  </style>\n",
              "\n",
              "      <script>\n",
              "        const buttonEl =\n",
              "          document.querySelector('#df-604652c5-92dc-46fd-a99a-65875c24511d button.colab-df-convert');\n",
              "        buttonEl.style.display =\n",
              "          google.colab.kernel.accessAllowed ? 'block' : 'none';\n",
              "\n",
              "        async function convertToInteractive(key) {\n",
              "          const element = document.querySelector('#df-604652c5-92dc-46fd-a99a-65875c24511d');\n",
              "          const dataTable =\n",
              "            await google.colab.kernel.invokeFunction('convertToInteractive',\n",
              "                                                     [key], {});\n",
              "          if (!dataTable) return;\n",
              "\n",
              "          const docLinkHtml = 'Like what you see? Visit the ' +\n",
              "            '<a target=\"_blank\" href=https://colab.research.google.com/notebooks/data_table.ipynb>data table notebook</a>'\n",
              "            + ' to learn more about interactive tables.';\n",
              "          element.innerHTML = '';\n",
              "          dataTable['output_type'] = 'display_data';\n",
              "          await google.colab.output.renderOutput(dataTable, element);\n",
              "          const docLink = document.createElement('div');\n",
              "          docLink.innerHTML = docLinkHtml;\n",
              "          element.appendChild(docLink);\n",
              "        }\n",
              "      </script>\n",
              "    </div>\n",
              "  </div>\n",
              "  "
            ]
          },
          "metadata": {},
          "execution_count": 114
        }
      ]
    },
    {
      "cell_type": "markdown",
      "source": [
        "Tidak terdapat nilai null"
      ],
      "metadata": {
        "id": "Pff3QVF99x3i"
      }
    },
    {
      "cell_type": "markdown",
      "source": [
        "Pengecekan outliers tidak perlu dilakukan kembali karena saat melakukan feature selection dengan WOE sudah include didalamnya."
      ],
      "metadata": {
        "id": "WJ5j6HJ9_c15"
      }
    },
    {
      "cell_type": "markdown",
      "source": [
        "##Eksplonatory Data Analysis"
      ],
      "metadata": {
        "id": "qaA9A5aR_G2r"
      }
    },
    {
      "cell_type": "code",
      "source": [
        "import scorecardpy as sc"
      ],
      "metadata": {
        "id": "qSYgmCuNAjyw"
      },
      "execution_count": null,
      "outputs": []
    },
    {
      "cell_type": "code",
      "source": [
        "y = 'target'"
      ],
      "metadata": {
        "id": "21vN6EXhDGqz"
      },
      "execution_count": null,
      "outputs": []
    },
    {
      "cell_type": "code",
      "source": [
        "bins = sc.woebin(df_loan_fs, y)"
      ],
      "metadata": {
        "colab": {
          "base_uri": "https://localhost:8080/"
        },
        "id": "BcOXHruzCHCu",
        "outputId": "d3bb1c16-3021-46cb-dca1-7ca83c2d14ea"
      },
      "execution_count": null,
      "outputs": [
        {
          "output_type": "stream",
          "name": "stdout",
          "text": [
            "[INFO] creating woe binning ...\n",
            "Binning on 466285 rows and 8 columns in 00:00:25\n"
          ]
        }
      ]
    },
    {
      "cell_type": "code",
      "source": [
        "sc.woebin_plot(bins)"
      ],
      "metadata": {
        "colab": {
          "base_uri": "https://localhost:8080/",
          "height": 1000
        },
        "id": "laqk2JiNDUqk",
        "outputId": "171ce816-49b1-499b-b7b8-9a1e00c2450c"
      },
      "execution_count": null,
      "outputs": [
        {
          "output_type": "execute_result",
          "data": {
            "text/plain": [
              "{'int_rate': <Figure size 432x288 with 2 Axes>,\n",
              " 'out_prncp': <Figure size 432x288 with 2 Axes>,\n",
              " 'out_prncp_inv': <Figure size 432x288 with 2 Axes>,\n",
              " 'sub_grade': <Figure size 432x288 with 2 Axes>,\n",
              " 'total_pymnt': <Figure size 432x288 with 2 Axes>,\n",
              " 'total_pymnt_inv': <Figure size 432x288 with 2 Axes>,\n",
              " 'total_rec_prncp': <Figure size 432x288 with 2 Axes>}"
            ]
          },
          "metadata": {},
          "execution_count": 118
        },
        {
          "output_type": "display_data",
          "data": {
            "text/plain": [
              "<Figure size 432x288 with 2 Axes>"
            ],
            "image/png": "[encoded data removed]"
          },
          "metadata": {
            "needs_background": "light"
          }
        },
        {
          "output_type": "display_data",
          "data": {
            "text/plain": [
              "<Figure size 432x288 with 2 Axes>"
            ],
            "image/png": "[encoded data removed]"
          },
          "metadata": {
            "needs_background": "light"
          }
        },
        {
          "output_type": "display_data",
          "data": {
            "text/plain": [
              "<Figure size 432x288 with 2 Axes>"
            ],
            "image/png": "[encoded data removed]"
          },
          "metadata": {
            "needs_background": "light"
          }
        },
        {
          "output_type": "display_data",
          "data": {
            "text/plain": [
              "<Figure size 432x288 with 2 Axes>"
            ],
            "image/png": "[encoded data removed]"
          },
          "metadata": {
            "needs_background": "light"
          }
        },
        {
          "output_type": "display_data",
          "data": {
            "text/plain": [
              "<Figure size 432x288 with 2 Axes>"
            ],
            "image/png": "[encoded data removed]"
          },
          "metadata": {
            "needs_background": "light"
          }
        },
        {
          "output_type": "display_data",
          "data": {
            "text/plain": [
              "<Figure size 432x288 with 2 Axes>"
            ],
            "image/png": "[encoded data removed]"
          },
          "metadata": {
            "needs_background": "light"
          }
        },
        {
          "output_type": "display_data",
          "data": {
            "text/plain": [
              "<Figure size 432x288 with 2 Axes>"
            ],
            "image/png": "[encoded data removed]"
          },
          "metadata": {
            "needs_background": "light"
          }
        }
      ]
    },
    {
      "cell_type": "markdown",
      "source": [
        "##Modeling"
      ],
      "metadata": {
        "id": "8MmWw_triWS6"
      }
    },
    {
      "cell_type": "code",
      "source": [
        "from sklearn.model_selection import train_test_split\n",
        "from sklearn.linear_model import LogisticRegression\n",
        "from sklearn.preprocessing import LabelEncoder\n",
        "from sklearn.metrics import classification_report, confusion_matrix, accuracy_score"
      ],
      "metadata": {
        "id": "dykclNAal2IL"
      },
      "execution_count": null,
      "outputs": []
    },
    {
      "cell_type": "code",
      "source": [
        "#Label Encoder sub_grade\n",
        "labelencoder = LabelEncoder()\n",
        "df_loan_fs['sub_grade_cat'] = labelencoder.fit_transform(df_loan_fs['sub_grade'])\n",
        "df_loan_fs"
      ],
      "metadata": {
        "colab": {
          "base_uri": "https://localhost:8080/",
          "height": 534
        },
        "id": "596jrEW9lh05",
        "outputId": "fc912aa8-469f-4ace-d955-07bc780f31fe"
      },
      "execution_count": null,
      "outputs": [
        {
          "output_type": "stream",
          "name": "stderr",
          "text": [
            "/usr/local/lib/python3.7/dist-packages/ipykernel_launcher.py:3: SettingWithCopyWarning: \n",
            "A value is trying to be set on a copy of a slice from a DataFrame.\n",
            "Try using .loc[row_indexer,col_indexer] = value instead\n",
            "\n",
            "See the caveats in the documentation: https://pandas.pydata.org/pandas-docs/stable/user_guide/indexing.html#returning-a-view-versus-a-copy\n",
            "  This is separate from the ipykernel package so we can avoid doing imports until\n"
          ]
        },
        {
          "output_type": "execute_result",
          "data": {
            "text/plain": [
              "        total_rec_prncp  out_prncp  out_prncp_inv  total_pymnt_inv  \\\n",
              "0               5000.00       0.00           0.00          5831.78   \n",
              "1                456.46       0.00           0.00          1008.71   \n",
              "2               2400.00       0.00           0.00          3003.65   \n",
              "3              10000.00       0.00           0.00         12226.30   \n",
              "...                 ...        ...            ...              ...   \n",
              "466281          1837.04       0.00           0.00          4677.92   \n",
              "466282          6271.69   14428.31       14428.31         12343.98   \n",
              "466283          2000.00       0.00           0.00          2126.58   \n",
              "466284          6015.62    3984.38        3974.41          8799.57   \n",
              "\n",
              "         total_pymnt sub_grade  int_rate  target  sub_grade_cat  \n",
              "0        5861.071414        B2     10.65       0              6  \n",
              "1        1008.710000        C4     15.27       1             13  \n",
              "2        3003.653644        C5     15.96       0             14  \n",
              "3       12226.302210        C1     13.49       0             10  \n",
              "...              ...       ...       ...     ...            ...  \n",
              "466281   4677.920000        D5     19.97       1             19  \n",
              "466282  12343.980000        D1     16.99       0             15  \n",
              "466283   2126.579838        A4      7.90       0              3  \n",
              "466284   8821.620000        D3     19.20       0             17  \n",
              "\n",
              "[466285 rows x 9 columns]"
            ],
            "text/html": [
              "\n",
              "  <div id=\"df-148444ba-2640-4dba-aff4-9f7bcb6a8238\">\n",
              "    <div class=\"colab-df-container\">\n",
              "      <div>\n",
              "<style scoped>\n",
              "    .dataframe tbody tr th:only-of-type {\n",
              "        vertical-align: middle;\n",
              "    }\n",
              "\n",
              "    .dataframe tbody tr th {\n",
              "        vertical-align: top;\n",
              "    }\n",
              "\n",
              "    .dataframe thead th {\n",
              "        text-align: right;\n",
              "    }\n",
              "</style>\n",
              "<table border=\"1\" class=\"dataframe\">\n",
              "  <thead>\n",
              "    <tr style=\"text-align: right;\">\n",
              "      <th></th>\n",
              "      <th>total_rec_prncp</th>\n",
              "      <th>out_prncp</th>\n",
              "      <th>out_prncp_inv</th>\n",
              "      <th>total_pymnt_inv</th>\n",
              "      <th>total_pymnt</th>\n",
              "      <th>sub_grade</th>\n",
              "      <th>int_rate</th>\n",
              "      <th>target</th>\n",
              "      <th>sub_grade_cat</th>\n",
              "    </tr>\n",
              "  </thead>\n",
              "  <tbody>\n",
              "    <tr>\n",
              "      <th>0</th>\n",
              "      <td>5000.00</td>\n",
              "      <td>0.00</td>\n",
              "      <td>0.00</td>\n",
              "      <td>5831.78</td>\n",
              "      <td>5861.071414</td>\n",
              "      <td>B2</td>\n",
              "      <td>10.65</td>\n",
              "      <td>0</td>\n",
              "      <td>6</td>\n",
              "    </tr>\n",
              "    <tr>\n",
              "      <th>1</th>\n",
              "      <td>456.46</td>\n",
              "      <td>0.00</td>\n",
              "      <td>0.00</td>\n",
              "      <td>1008.71</td>\n",
              "      <td>1008.710000</td>\n",
              "      <td>C4</td>\n",
              "      <td>15.27</td>\n",
              "      <td>1</td>\n",
              "      <td>13</td>\n",
              "    </tr>\n",
              "    <tr>\n",
              "      <th>2</th>\n",
              "      <td>2400.00</td>\n",
              "      <td>0.00</td>\n",
              "      <td>0.00</td>\n",
              "      <td>3003.65</td>\n",
              "      <td>3003.653644</td>\n",
              "      <td>C5</td>\n",
              "      <td>15.96</td>\n",
              "      <td>0</td>\n",
              "      <td>14</td>\n",
              "    </tr>\n",
              "    <tr>\n",
              "      <th>3</th>\n",
              "      <td>10000.00</td>\n",
              "      <td>0.00</td>\n",
              "      <td>0.00</td>\n",
              "      <td>12226.30</td>\n",
              "      <td>12226.302210</td>\n",
              "      <td>C1</td>\n",
              "      <td>13.49</td>\n",
              "      <td>0</td>\n",
              "      <td>10</td>\n",
              "    </tr>\n",
              "    <tr>\n",
              "      <th>...</th>\n",
              "      <td>...</td>\n",
              "      <td>...</td>\n",
              "      <td>...</td>\n",
              "      <td>...</td>\n",
              "      <td>...</td>\n",
              "      <td>...</td>\n",
              "      <td>...</td>\n",
              "      <td>...</td>\n",
              "      <td>...</td>\n",
              "    </tr>\n",
              "    <tr>\n",
              "      <th>466281</th>\n",
              "      <td>1837.04</td>\n",
              "      <td>0.00</td>\n",
              "      <td>0.00</td>\n",
              "      <td>4677.92</td>\n",
              "      <td>4677.920000</td>\n",
              "      <td>D5</td>\n",
              "      <td>19.97</td>\n",
              "      <td>1</td>\n",
              "      <td>19</td>\n",
              "    </tr>\n",
              "    <tr>\n",
              "      <th>466282</th>\n",
              "      <td>6271.69</td>\n",
              "      <td>14428.31</td>\n",
              "      <td>14428.31</td>\n",
              "      <td>12343.98</td>\n",
              "      <td>12343.980000</td>\n",
              "      <td>D1</td>\n",
              "      <td>16.99</td>\n",
              "      <td>0</td>\n",
              "      <td>15</td>\n",
              "    </tr>\n",
              "    <tr>\n",
              "      <th>466283</th>\n",
              "      <td>2000.00</td>\n",
              "      <td>0.00</td>\n",
              "      <td>0.00</td>\n",
              "      <td>2126.58</td>\n",
              "      <td>2126.579838</td>\n",
              "      <td>A4</td>\n",
              "      <td>7.90</td>\n",
              "      <td>0</td>\n",
              "      <td>3</td>\n",
              "    </tr>\n",
              "    <tr>\n",
              "      <th>466284</th>\n",
              "      <td>6015.62</td>\n",
              "      <td>3984.38</td>\n",
              "      <td>3974.41</td>\n",
              "      <td>8799.57</td>\n",
              "      <td>8821.620000</td>\n",
              "      <td>D3</td>\n",
              "      <td>19.20</td>\n",
              "      <td>0</td>\n",
              "      <td>17</td>\n",
              "    </tr>\n",
              "  </tbody>\n",
              "</table>\n",
              "<p>466285 rows × 9 columns</p>\n",
              "</div>\n",
              "      <button class=\"colab-df-convert\" onclick=\"convertToInteractive('df-148444ba-2640-4dba-aff4-9f7bcb6a8238')\"\n",
              "              title=\"Convert this dataframe to an interactive table.\"\n",
              "              style=\"display:none;\">\n",
              "        \n",
              "  <svg xmlns=\"http://www.w3.org/2000/svg\" height=\"24px\"viewBox=\"0 0 24 24\"\n",
              "       width=\"24px\">\n",
              "    <path d=\"M0 0h24v24H0V0z\" fill=\"none\"/>\n",
              "    <path d=\"M18.56 5.44l.94 2.06.94-2.06 2.06-.94-2.06-.94-.94-2.06-.94 2.06-2.06.94zm-11 1L8.5 8.5l.94-2.06 2.06-.94-2.06-.94L8.5 2.5l-.94 2.06-2.06.94zm10 10l.94 2.06.94-2.06 2.06-.94-2.06-.94-.94-2.06-.94 2.06-2.06.94z\"/><path d=\"M17.41 7.96l-1.37-1.37c-.4-.4-.92-.59-1.43-.59-.52 0-1.04.2-1.43.59L10.3 9.45l-7.72 7.72c-.78.78-.78 2.05 0 2.83L4 21.41c.39.39.9.59 1.41.59.51 0 1.02-.2 1.41-.59l7.78-7.78 2.81-2.81c.8-.78.8-2.07 0-2.86zM5.41 20L4 18.59l7.72-7.72 1.47 1.35L5.41 20z\"/>\n",
              "  </svg>\n",
              "      </button>\n",
              "      \n",
              "  <style>\n",
              "    .colab-df-container {\n",
              "      display:flex;\n",
              "      flex-wrap:wrap;\n",
              "      gap: 12px;\n",
              "    }\n",
              "\n",
              "    .colab-df-convert {\n",
              "      background-color: #E8F0FE;\n",
              "      border: none;\n",
              "      border-radius: 50%;\n",
              "      cursor: pointer;\n",
              "      display: none;\n",
              "      fill: #1967D2;\n",
              "      height: 32px;\n",
              "      padding: 0 0 0 0;\n",
              "      width: 32px;\n",
              "    }\n",
              "\n",
              "    .colab-df-convert:hover {\n",
              "      background-color: #E2EBFA;\n",
              "      box-shadow: 0px 1px 2px rgba(60, 64, 67, 0.3), 0px 1px 3px 1px rgba(60, 64, 67, 0.15);\n",
              "      fill: #174EA6;\n",
              "    }\n",
              "\n",
              "    [theme=dark] .colab-df-convert {\n",
              "      background-color: #3B4455;\n",
              "      fill: #D2E3FC;\n",
              "    }\n",
              "\n",
              "    [theme=dark] .colab-df-convert:hover {\n",
              "      background-color: #434B5C;\n",
              "      box-shadow: 0px 1px 3px 1px rgba(0, 0, 0, 0.15);\n",
              "      filter: drop-shadow(0px 1px 2px rgba(0, 0, 0, 0.3));\n",
              "      fill: #FFFFFF;\n",
              "    }\n",
              "  </style>\n",
              "\n",
              "      <script>\n",
              "        const buttonEl =\n",
              "          document.querySelector('#df-148444ba-2640-4dba-aff4-9f7bcb6a8238 button.colab-df-convert');\n",
              "        buttonEl.style.display =\n",
              "          google.colab.kernel.accessAllowed ? 'block' : 'none';\n",
              "\n",
              "        async function convertToInteractive(key) {\n",
              "          const element = document.querySelector('#df-148444ba-2640-4dba-aff4-9f7bcb6a8238');\n",
              "          const dataTable =\n",
              "            await google.colab.kernel.invokeFunction('convertToInteractive',\n",
              "                                                     [key], {});\n",
              "          if (!dataTable) return;\n",
              "\n",
              "          const docLinkHtml = 'Like what you see? Visit the ' +\n",
              "            '<a target=\"_blank\" href=https://colab.research.google.com/notebooks/data_table.ipynb>data table notebook</a>'\n",
              "            + ' to learn more about interactive tables.';\n",
              "          element.innerHTML = '';\n",
              "          dataTable['output_type'] = 'display_data';\n",
              "          await google.colab.output.renderOutput(dataTable, element);\n",
              "          const docLink = document.createElement('div');\n",
              "          docLink.innerHTML = docLinkHtml;\n",
              "          element.appendChild(docLink);\n",
              "        }\n",
              "      </script>\n",
              "    </div>\n",
              "  </div>\n",
              "  "
            ]
          },
          "metadata": {},
          "execution_count": 127
        }
      ]
    },
    {
      "cell_type": "code",
      "source": [
        "X = df_loan_fs.drop(['target', 'sub_grade'], axis=1, inplace=False)\n",
        "y = df_loan_fs['target']\n",
        "\n",
        "X_train, X_test, y_train, y_test = train_test_split(X, y, test_size=0.2, random_state=45)\n",
        "logreg = LogisticRegression()\n",
        "logreg.fit(X_train, y_train)\n",
        "predictions = logreg.predict(X_test)\n",
        "print(f\"Logistic Regression: {accuracy_score(y_test, predictions)}\")"
      ],
      "metadata": {
        "colab": {
          "base_uri": "https://localhost:8080/"
        },
        "id": "2yUAjd5_jJJv",
        "outputId": "1c612cca-727f-4d0e-ef64-95cbb83bf4fa"
      },
      "execution_count": null,
      "outputs": [
        {
          "output_type": "stream",
          "name": "stdout",
          "text": [
            "Logistic Regression: 0.9389536442304599\n"
          ]
        }
      ]
    },
    {
      "cell_type": "markdown",
      "source": [
        "##Evaluation"
      ],
      "metadata": {
        "id": "_eWt69Jomywh"
      }
    },
    {
      "cell_type": "code",
      "source": [
        "# Confusion Matrix\n",
        "def confMatrix(y_test, prediction) :\n",
        "    plt.figure(figsize=(7, 5))\n",
        "    conf_matrix = confusion_matrix(y_test, prediction)\n",
        "    sns.heatmap(conf_matrix, annot=True, xticklabels=[0, 1], yticklabels=[0, 1], cmap='flare', fmt='d')\n",
        "    plt.ylabel('Actual Values')\n",
        "    plt.xlabel('Predicted Values')\n",
        "    plt.title(f'Confusion Matrix', pad=16)\n",
        "    plt.show()"
      ],
      "metadata": {
        "id": "8p5NCYNmlFTO"
      },
      "execution_count": null,
      "outputs": []
    },
    {
      "cell_type": "code",
      "source": [
        "confMatrix(y_test, predictions)\n",
        "print(\"\\n\", classification_report(y_test, predictions), end=\"\\n\\n\")"
      ],
      "metadata": {
        "colab": {
          "base_uri": "https://localhost:8080/"
        },
        "id": "tID3s6Svm70c",
        "outputId": "76c0892e-70ca-4103-e7d6-47195a1cebf8"
      },
      "execution_count": null,
      "outputs": [
        {
          "output_type": "display_data",
          "data": {
            "text/plain": [
              "<Figure size 504x360 with 2 Axes>"
            ],
            "image/png": "[encoded data removed]"
          },
          "metadata": {
            "needs_background": "light"
          }
        },
        {
          "output_type": "stream",
          "name": "stdout",
          "text": [
            "\n",
            "               precision    recall  f1-score   support\n",
            "\n",
            "           0       0.94      1.00      0.97     82587\n",
            "           1       0.94      0.50      0.65     10670\n",
            "\n",
            "    accuracy                           0.94     93257\n",
            "   macro avg       0.94      0.75      0.81     93257\n",
            "weighted avg       0.94      0.94      0.93     93257\n",
            "\n",
            "\n"
          ]
        }
      ]
    }
  ]
}